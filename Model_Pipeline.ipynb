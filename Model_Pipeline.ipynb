{
 "cells": [
  {
   "cell_type": "markdown",
   "id": "98ef72c6",
   "metadata": {},
   "source": [
    "**Loading The .txt files**"
   ]
  },
  {
   "cell_type": "code",
   "execution_count": 2,
   "id": "91726638",
   "metadata": {},
   "outputs": [
    {
     "name": "stdout",
     "output_type": "stream",
     "text": [
      "✅ CSV file saved! Shape: (400000, 2)\n"
     ]
    }
   ],
   "source": [
    "import pandas as pd\n",
    "\n",
    "# Path to your file\n",
    "file_path = \"C:\\\\Users\\\\ASUS\\\\Downloads\\\\AI Lab Project\\\\test.ft.txt\\\\test.ft.txt\"  # Replace with actual path\n",
    "\n",
    "# Read the file line by line\n",
    "data = []\n",
    "with open(file_path, 'r', encoding='utf-8') as f:\n",
    "    for line in f:\n",
    "        line = line.strip()\n",
    "        if line:\n",
    "            if line.startswith(\"__label__2\"):\n",
    "                sentiment = \"Positive\"\n",
    "                review = line.replace(\"__label__2\", \"\").strip()\n",
    "            elif line.startswith(\"__label__1\"):\n",
    "                sentiment = \"Negative\"\n",
    "                review = line.replace(\"__label__1\", \"\").strip()\n",
    "            else:\n",
    "                continue\n",
    "            data.append((review, sentiment))\n",
    "\n",
    "# Create DataFrame\n",
    "df = pd.DataFrame(data, columns=[\"review\", \"sentiment\"])\n",
    "\n",
    "# Shuffle and save\n",
    "df = df.sample(frac=1, random_state=42).reset_index(drop=True)\n",
    "df.to_csv(\"product_reviews_test.csv\", index=False)\n",
    "\n",
    "print(\"✅ CSV file saved! Shape:\", df.shape)"
   ]
  },
  {
   "cell_type": "markdown",
   "id": "3f2abac1",
   "metadata": {},
   "source": [
    "# Preprocessing"
   ]
  },
  {
   "cell_type": "code",
   "execution_count": null,
   "id": "f61a0049",
   "metadata": {},
   "outputs": [],
   "source": [
    "import pandas as pd\n",
    "import string\n",
    "import nltk\n",
    "import re\n",
    "\n",
    "from nltk.corpus import stopwords\n",
    "from nltk.stem import WordNetLemmatizer\n",
    "\n",
    "\n",
    "'''# --- NLTK Setup ---\n",
    "nltk_data_path = './nltk_data'\n",
    "os.makedirs(nltk_data_path, exist_ok=True)\n",
    "nltk.download('punkt', download_dir=nltk_data_path)\n",
    "nltk.download('stopwords', download_dir=nltk_data_path)\n",
    "nltk.download('wordnet', download_dir=nltk_data_path)\n",
    "nltk.download('omw-1.4', download_dir=nltk_data_path)\n",
    "nltk.data.path.append(nltk_data_path)'''\n",
    "\n",
    "# --- Text Preprocessing ---\n",
    "stop_words = set(stopwords.words('english'))\n",
    "lemmatizer = WordNetLemmatizer()\n",
    "\n",
    "def preprocess_text(text):\n",
    "    if pd.isnull(text):\n",
    "        return ''\n",
    "    # Lowercase\n",
    "    text = text.lower()\n",
    "    # Remove URLs\n",
    "    text = re.sub(r\"http\\S+|www\\S+|https\\S+\", '', text)\n",
    "    # Remove punctuation\n",
    "    text = text.translate(str.maketrans('', '', string.punctuation))\n",
    "    # Remove numbers\n",
    "    text = re.sub(r'\\d+', '', text)\n",
    "\n",
    "    text = text.strip()\n",
    "    # Replace word_tokenize with basic split\n",
    "    tokens = text.split()\n",
    "    # Remove stopwords & lemmatize\n",
    "    tokens = [lemmatizer.lemmatize(word) for word in tokens if word not in stop_words]\n",
    "    return ' '.join(tokens)\n",
    "\n",
    "# --- Load Data ---\n",
    "train_df = pd.read_csv(\"product_reviews_train.csv\")\n",
    "test_df = pd.read_csv(\"product_reviews_test.csv\")\n",
    "\n",
    "# --- Apply Preprocessing ---\n",
    "train_df['clean_review'] = train_df['review'].apply(preprocess_text)\n",
    "test_df['clean_review'] = test_df['review'].apply(preprocess_text)\n",
    "\n",
    "# --- Preview ---\n",
    "print(train_df[['review', 'clean_review']].head())\n"
   ]
  },
  {
   "cell_type": "code",
   "execution_count": null,
   "id": "40e7d338",
   "metadata": {},
   "outputs": [],
   "source": [
    "train_df.to_csv(\"cleaned_product_reviews_train.csv\", index=False)\n",
    "test_df.to_csv(\"cleaned_product_reviews_test.csv\", index=False)"
   ]
  },
  {
   "cell_type": "code",
   "execution_count": null,
   "id": "bbde329d",
   "metadata": {},
   "outputs": [],
   "source": [
    "train_df.dropna(subset=['clean_review'], inplace=True)\n",
    "test_df.dropna(subset=['clean_review'], inplace=True)"
   ]
  },
  {
   "cell_type": "code",
   "execution_count": null,
   "id": "0f5df06f",
   "metadata": {},
   "outputs": [
    {
     "name": "stdout",
     "output_type": "stream",
     "text": [
      "Missing values in training data: 0\n",
      "Missing values in testing data: 0\n"
     ]
    }
   ],
   "source": [
    "# Check for missing values in 'clean_review' column\n",
    "missing_train = train_df['clean_review'].isna().sum()\n",
    "missing_test = test_df['clean_review'].isna().sum()\n",
    "\n",
    "print(f\"Missing values in training data: {missing_train}\")\n",
    "print(f\"Missing values in testing data: {missing_test}\")"
   ]
  },
  {
   "cell_type": "code",
   "execution_count": null,
   "id": "09c5eabf",
   "metadata": {},
   "outputs": [],
   "source": [
    "from sklearn.feature_extraction.text import TfidfVectorizer\n",
    "from sklearn.pipeline import FeatureUnion\n",
    "from sklearn.svm import LinearSVC\n",
    "from sklearn.metrics import accuracy_score, classification_report, confusion_matrix\n",
    "import pandas as pd\n",
    "# --- Load Data ---\n",
    "train_df = pd.read_csv(\"cleaned_product_reviews_train.csv\")\n",
    "test_df = pd.read_csv(\"cleaned_product_reviews_test.csv\")"
   ]
  },
  {
   "cell_type": "markdown",
   "id": "5a00c672",
   "metadata": {},
   "source": [
    "#  TF-IDF Vectorization + Model Training (SVM)"
   ]
  },
  {
   "cell_type": "code",
   "execution_count": null,
   "id": "b7ef3534",
   "metadata": {},
   "outputs": [
    {
     "name": "stdout",
     "output_type": "stream",
     "text": [
      "\n",
      "💥 Accuracy Score: 0.9125897814744537\n",
      "\n",
      "📊 Classification Report:\n",
      "               precision    recall  f1-score   support\n",
      "\n",
      "    Negative       0.91      0.91      0.91    200000\n",
      "    Positive       0.91      0.91      0.91    199999\n",
      "\n",
      "    accuracy                           0.91    399999\n",
      "   macro avg       0.91      0.91      0.91    399999\n",
      "weighted avg       0.91      0.91      0.91    399999\n",
      "\n",
      "\n",
      "🧱 Confusion Matrix:\n",
      " [[182067  17933]\n",
      " [ 17031 182968]]\n"
     ]
    }
   ],
   "source": [
    "\n",
    "import string\n",
    "import nltk\n",
    "import re\n",
    "\n",
    "from nltk.corpus import stopwords\n",
    "from nltk.stem import WordNetLemmatizer\n",
    "\n",
    "# Extract features\n",
    "vectorizer = TfidfVectorizer(ngram_range=(1, 2), max_features=100000)\n",
    "X_train = vectorizer.fit_transform(train_df['clean_review'])\n",
    "X_test = vectorizer.transform(test_df['clean_review'])\n",
    "\n",
    "# Labels\n",
    "y_train = train_df['sentiment']\n",
    "y_test = test_df['sentiment']\n",
    "\n",
    "# Train the model\n",
    "model = LinearSVC()\n",
    "model.fit(X_train, y_train)\n",
    "\n",
    "# Predict\n",
    "y_pred = model.predict(X_test)\n",
    "\n",
    "# Evaluate\n",
    "print(\"\\n💥 Accuracy Score:\", accuracy_score(y_test, y_pred))\n",
    "print(\"\\n📊 Classification Report:\\n\", classification_report(y_test, y_pred))\n",
    "print(\"\\n🧱 Confusion Matrix:\\n\", confusion_matrix(y_test, y_pred))\n"
   ]
  },
  {
   "cell_type": "markdown",
   "id": "245d7fe4",
   "metadata": {},
   "source": [
    "**Save the Model**"
   ]
  },
  {
   "cell_type": "code",
   "execution_count": null,
   "id": "535ea5ca",
   "metadata": {},
   "outputs": [
    {
     "data": {
      "text/plain": [
       "['tfidf_vectorizer.pkl']"
      ]
     },
     "execution_count": 6,
     "metadata": {},
     "output_type": "execute_result"
    }
   ],
   "source": [
    "import joblib\n",
    "\n",
    "joblib.dump(model, 'svm_sentiment_model.pkl')\n",
    "joblib.dump(vectorizer, 'tfidf_vectorizer.pkl')"
   ]
  },
  {
   "cell_type": "markdown",
   "id": "7c577064",
   "metadata": {},
   "source": [
    "**Plot Confusion Matrix**"
   ]
  },
  {
   "cell_type": "code",
   "execution_count": null,
   "id": "3732d540",
   "metadata": {},
   "outputs": [
    {
     "data": {
      "image/png": "[encoded data removed]",
      "text/plain": [
       "<Figure size 600x400 with 2 Axes>"
      ]
     },
     "metadata": {},
     "output_type": "display_data"
    }
   ],
   "source": [
    "import seaborn as sns\n",
    "import matplotlib.pyplot as plt\n",
    "from sklearn.metrics import confusion_matrix\n",
    "\n",
    "cm = confusion_matrix(y_test, y_pred)\n",
    "plt.figure(figsize=(6,4))\n",
    "sns.heatmap(cm, annot=True, fmt='d', cmap='Blues', xticklabels=['Negative', 'Positive'], yticklabels=['Negative', 'Positive'])\n",
    "plt.xlabel('Predicted')\n",
    "plt.ylabel('Actual')\n",
    "plt.title('Confusion Matrix')\n",
    "plt.show()\n"
   ]
  },
  {
   "cell_type": "markdown",
   "id": "bb6f1c69",
   "metadata": {},
   "source": [
    "**Testing the Model**"
   ]
  },
  {
   "cell_type": "code",
   "execution_count": 44,
   "id": "365848e0",
   "metadata": {},
   "outputs": [],
   "source": [
    "import joblib\n",
    "# Load model and vectorizer\n",
    "model = joblib.load('svm_sentiment_model.pkl')\n",
    "vectorizer = joblib.load('tfidf_vectorizer.pkl')"
   ]
  },
  {
   "cell_type": "code",
   "execution_count": null,
   "id": "d89adbb5",
   "metadata": {},
   "outputs": [],
   "source": [
    "from sklearn.feature_extraction.text import ENGLISH_STOP_WORDS\n",
    "import spacy\n",
    "import re\n",
    "import string\n",
    "import pandas as pd\n",
    "\n",
    "# Load spaCy\n",
    "nlp = spacy.load(\"en_core_web_sm\")\n",
    "stop_words = set(ENGLISH_STOP_WORDS)\n",
    "\n",
    "# Clean & Lemmatize\n",
    "def preprocess_text(text):\n",
    "    if pd.isnull(text):\n",
    "        return \"\"\n",
    "    \n",
    "    text = text.lower()\n",
    "    text = re.sub(r\"http\\S+|www\\S+|https\\S+\", '', text)\n",
    "    text = re.sub(r'\\d+', '', text)\n",
    "    text = text.translate(str.maketrans('', '', string.punctuation))\n",
    "    text = text.strip()\n",
    "\n",
    "    doc = nlp(text)\n",
    "    tokens = [token.lemma_ for token in doc if token.text not in stop_words and not token.is_punct and not token.is_space]\n",
    "    \n",
    "    return ' '.join(tokens)\n"
   ]
  },
  {
   "cell_type": "code",
   "execution_count": null,
   "id": "e221e1c2",
   "metadata": {},
   "outputs": [
    {
     "name": "stdout",
     "output_type": "stream",
     "text": [
      "🧠 Predicted Sentiment: Positive\n",
      "Review: This product is absolutely amazing!\n",
      "Predicted Sentiment: Positive\n",
      "\n",
      "Review: Worst purchase I've made, very disappointed.\n",
      "Predicted Sentiment: Negative\n",
      "\n"
     ]
    }
   ],
   "source": [
    "# Example sample input\n",
    "sample = [\"This product is absolutely amazing!\", \"Worst purchase I've made, very disappointed.\"]\n",
    "\n",
    "# Preprocess\n",
    "sample_clean = [preprocess_text(s) for s in sample]\n",
    "\n",
    "# Transform using trained vectorizer\n",
    "sample_vec = vectorizer.transform(sample_clean)\n",
    "\n",
    "# Predict sentiment\n",
    "predicted_sentiment = model.predict(sample_vec)[0]\n",
    "print(\"🧠 Predicted Sentiment:\", predicted_sentiment)\n",
    "\n",
    "# Predict probabilities\n",
    "y_probs = model.decision_function(sample_vec)\n",
    "# Convert decision function values into sentiment predictions\n",
    "predictions = ['Positive' if value > 0 else 'Negative' for value in y_probs]\n",
    "\n",
    "# Print results\n",
    "for sample, prediction in zip(sample, predictions):\n",
    "    print(f\"Review: {sample}\\nPredicted Sentiment: {prediction}\\n\")"
   ]
  },
  {
   "cell_type": "code",
   "execution_count": null,
   "id": "ff8a05bd",
   "metadata": {},
   "outputs": [
    {
     "name": "stdout",
     "output_type": "stream",
     "text": [
      "Review: This product is exactly what I needed, works perfectly!\n",
      "Predicted Sentiment: Positive\n",
      "\n",
      "Review: Totally disappointed. It didn’t meet any of my expectations.\n",
      "Predicted Sentiment: Negative\n",
      "\n",
      "Review: It’s alright, not too bad but not great either.\n",
      "Predicted Sentiment: Negative\n",
      "\n",
      "Review: One of the best purchases I’ve made in a while. Highly recommend!\n",
      "Predicted Sentiment: Positive\n",
      "\n",
      "Review: The quality is awful, I regret buying it.\n",
      "Predicted Sentiment: Negative\n",
      "\n",
      "Review: Not as good as I thought, but decent for the price.\n",
      "Predicted Sentiment: Positive\n",
      "\n",
      "Review: Fantastic product! Totally worth it!\n",
      "Predicted Sentiment: Positive\n",
      "\n",
      "Review: I’ve had better, but this is not terrible.\n",
      "Predicted Sentiment: Negative\n",
      "\n",
      "Review: I am so happy with this purchase. Exceeded all my expectations!\n",
      "Predicted Sentiment: Positive\n",
      "\n",
      "Review: Terrible experience, don’t waste your money.\n",
      "Predicted Sentiment: Negative\n",
      "\n"
     ]
    }
   ],
   "source": [
    "# Sample reviews for testing\n",
    "sample_reviews = [\n",
    "    \"This product is exactly what I needed, works perfectly!\",\n",
    "    \"Totally disappointed. It didn’t meet any of my expectations.\",\n",
    "    \"It’s alright, not too bad but not great either.\",\n",
    "    \"One of the best purchases I’ve made in a while. Highly recommend!\",\n",
    "    \"The quality is awful, I regret buying it.\",\n",
    "    \"Not as good as I thought, but decent for the price.\",\n",
    "    \"Fantastic product! Totally worth it!\",\n",
    "    \"I’ve had better, but this is not terrible.\",\n",
    "    \"I am so happy with this purchase. Exceeded all my expectations!\",\n",
    "    \"Terrible experience, don’t waste your money.\"\n",
    "]\n",
    "\n",
    "# Preprocessing and prediction\n",
    "sample_clean_reviews = [preprocess_text(review) for review in sample_reviews]\n",
    "sample_vec = vectorizer.transform(sample_clean_reviews)\n",
    "predictions = model.predict(sample_vec)\n",
    "\n",
    "# Print results\n",
    "for sample, prediction in zip(sample_reviews, predictions):\n",
    "    print(f\"Review: {sample}\\nPredicted Sentiment: {prediction}\\n\")\n"
   ]
  }
 ],
 "metadata": {
  "kernelspec": {
   "display_name": "Python 3",
   "language": "python",
   "name": "python3"
  },
  "language_info": {
   "codemirror_mode": {
    "name": "ipython",
    "version": 3
   },
   "file_extension": ".py",
   "mimetype": "text/x-python",
   "name": "python",
   "nbconvert_exporter": "python",
   "pygments_lexer": "ipython3",
   "version": "3.12.6"
  }
 },
 "nbformat": 4,
 "nbformat_minor": 5
}
